{
 "cells": [
  {
   "cell_type": "markdown",
   "metadata": {},
   "source": [
    "First, we process magic cards from modern sets in the magic.json database."
   ]
  },
  {
   "cell_type": "code",
   "execution_count": 202,
   "metadata": {},
   "outputs": [
    {
     "name": "stdout",
     "output_type": "stream",
     "text": [
      "8000\n"
     ]
    }
   ],
   "source": [
    "import json\n",
    "magic_json = json.load(open('AllSets.json','rb'))\n",
    "\n",
    "def to_triple(s):\n",
    "    return tuple(map(int, s.split('-')))\n",
    "\n",
    "def cleanup(s):\n",
    "    s = s.lower()\n",
    "    s = s.replace('.','').replace('(','').replace(')','')\n",
    "    s = s.replace('?','').replace(';','')\n",
    "    return s.replace(',','').replace('\\n',' ').split(' ')\n",
    "\n",
    "categories = {\n",
    "        \"colors\" : [],\n",
    "        \"types\" : [],\n",
    "        \"power\" : [],\n",
    "        \"toughness\" : [],\n",
    "        }\n",
    "\n",
    "words_occ = {}\n",
    "\n",
    "cards_seen = []\n",
    "\n",
    "cards = []\n",
    "for exp in magic_json:\n",
    "    if \"border\"in magic_json[exp] and magic_json[exp][\"border\"] == \"silver\":\n",
    "        continue\n",
    "\n",
    "    if to_triple(magic_json[exp][\"releaseDate\"]) < (2003,7,28):\n",
    "        continue\n",
    "    \n",
    "    for card in magic_json[exp][\"cards\"]:\n",
    "        if card[\"name\"] in cards_seen:\n",
    "            continue\n",
    "\n",
    "        cards_seen.append(card[\"name\"])\n",
    "        text = \"\"\n",
    "        if \"text\" in card:\n",
    "            text = card[\"text\"]\n",
    "        text = cleanup(text)\n",
    "\n",
    "        for word in text:\n",
    "            if word not in words_occ:\n",
    "                words_occ[word] = 0\n",
    "            words_occ[word] += 1\n",
    "\n",
    "        multicolor = 0\n",
    "        colorless = 1\n",
    "\n",
    "        cmc = 0\n",
    "        if \"cmc\" in card:\n",
    "            cmc = card[\"cmc\"]\n",
    "\n",
    "        colors = []\n",
    "        if \"colors\" in card:\n",
    "            colors = card[\"colors\"]\n",
    "            for color in colors:\n",
    "                if color not in categories[\"colors\"]:\n",
    "                    categories[\"colors\"].append(color)\n",
    "\n",
    "            colorless = 0\n",
    "            if len(colors) > 1:\n",
    "                multicolor = 1\n",
    "\n",
    "        types = []\n",
    "        if \"types\" in card:\n",
    "            types = card[\"types\"]\n",
    "            for typ in types:\n",
    "                if typ not in categories[\"types\"]:\n",
    "                    categories[\"types\"].append(typ)\n",
    "\n",
    "        power = \"\"\n",
    "        if \"power\" in card:\n",
    "            power = card[\"power\"]\n",
    "        if power not in categories[\"power\"]:\n",
    "            categories[\"power\"].append(power)\n",
    "        toughness = \"\"\n",
    "        if \"toughness\" in card:\n",
    "            toughness = card[\"toughness\"]\n",
    "        if toughness not in categories[\"toughness\"]:\n",
    "            categories[\"toughness\"].append(toughness)\n",
    "\n",
    "        cards.append( (text, colors, types, power, toughness, multicolor,\n",
    "            colorless, cmc) )\n",
    "        \n",
    "nwords = 8000\n",
    "words = list(words_occ)\n",
    "words.sort(key=lambda w:-words_occ[w])\n",
    "words = words[:nwords]\n",
    "print(len(words))\n",
    "\n",
    "categories['words'] = words\n",
    "\n"
   ]
  },
  {
   "cell_type": "code",
   "execution_count": 89,
   "metadata": {},
   "outputs": [],
   "source": [
    "ntypes, npower, ntoughness, ncolors = (len(categories['types']), \n",
    "    len(categories['power']), len(categories['toughness']),\n",
    "    len(categories['colors']))\n",
    "\n",
    "nwords = len(categories['words'])\n",
    "from random import shuffle\n",
    "\n",
    "shuffle(cards)\n"
   ]
  },
  {
   "cell_type": "code",
   "execution_count": 90,
   "metadata": {},
   "outputs": [],
   "source": [
    "import numpy as np\n",
    "\n",
    "maxcmc = 15\n",
    "\n",
    "inputs = nwords+ntypes+npower+ntoughness+3\n",
    "\n",
    "data = np.zeros( (len(cards), inputs) )\n",
    "labels = np.zeros( (len(cards), ncolors) )\n",
    "\n",
    "# a function to build test cases for predicition\n",
    "def fill_data(data, i, text, types, power, toughness, colorless, multicolor, cmc):\n",
    "    for w in text:\n",
    "        if w in categories[\"words\"]:\n",
    "            data[i, categories[\"words\"].index(w)] = 1\n",
    "\n",
    "    for t in types:\n",
    "        data[i, nwords+categories['types'].index(t)] = 1\n",
    "    data[i, nwords+ntypes+categories['power'].index(power)] = 1\n",
    "    data[i, nwords+ntypes+npower+categories['toughness'].index(toughness)] = 1\n",
    "\n",
    "    data[i, inputs-3] = colorless\n",
    "    data[i, inputs-2] = multicolor\n",
    "    data[i, inputs-1] = cmc/maxcmc\n",
    "for i, card in enumerate(cards):\n",
    "    text, colors, types, power, toughness, colorless, multicolor, cmc = card\n",
    "    \n",
    "    fill_data(data, i, text, types, power, toughness, colorless, multicolor, cmc)\n",
    "\n",
    "    for c in colors:\n",
    "        labels[i, categories['colors'].index(c)] = 1\n",
    "\n",
    "outputs = ncolors"
   ]
  },
  {
   "cell_type": "markdown",
   "metadata": {},
   "source": [
    "Then we build and train a small neural network for this task."
   ]
  },
  {
   "cell_type": "code",
   "execution_count": 91,
   "metadata": {},
   "outputs": [],
   "source": [
    "import tensorflow as tf\n",
    "config = tf.ConfigProto()\n",
    "config.gpu_options.allow_growth = True\n",
    "session = tf.Session(config=config)\n",
    "\n",
    "\n",
    "from keras import layers, models"
   ]
  },
  {
   "cell_type": "code",
   "execution_count": 188,
   "metadata": {},
   "outputs": [],
   "source": [
    "model = models.Sequential()\n",
    "model.add(layers.Dense(16, activation='relu', input_shape=(inputs,)))\n",
    "model.add(layers.Dense(16, activation='relu'))\n",
    "model.add(layers.Dropout(0.2))\n",
    "model.add(layers.Dense(outputs, activation='sigmoid'))\n",
    "\n",
    "model.compile(optimizer='rmsprop',\n",
    "        loss='binary_crossentropy',\n",
    "        metrics=['accuracy'])"
   ]
  },
  {
   "cell_type": "code",
   "execution_count": 175,
   "metadata": {},
   "outputs": [],
   "source": [
    "train_data = data[1000:8000]\n",
    "train_labels = labels[1000:8000]\n",
    "\n",
    "val_data = data[:1000]\n",
    "val_labels = labels[:1000]\n",
    "\n",
    "test_data = data[8000:]\n",
    "test_labels = labels[8000:]"
   ]
  },
  {
   "cell_type": "code",
   "execution_count": 189,
   "metadata": {},
   "outputs": [
    {
     "name": "stdout",
     "output_type": "stream",
     "text": [
      "Train on 7000 samples, validate on 1000 samples\n",
      "Epoch 1/30\n",
      "7000/7000 [==============================] - 1s 147us/step - loss: 0.6594 - acc: 0.6958 - val_loss: 0.6132 - val_acc: 0.8052\n",
      "Epoch 2/30\n",
      "7000/7000 [==============================] - 1s 81us/step - loss: 0.5893 - acc: 0.7617 - val_loss: 0.5533 - val_acc: 0.8052\n",
      "Epoch 3/30\n",
      "7000/7000 [==============================] - 1s 79us/step - loss: 0.5465 - acc: 0.7647 - val_loss: 0.5181 - val_acc: 0.8052\n",
      "Epoch 4/30\n",
      "7000/7000 [==============================] - 1s 81us/step - loss: 0.5210 - acc: 0.7667 - val_loss: 0.4939 - val_acc: 0.8052\n",
      "Epoch 5/30\n",
      "7000/7000 [==============================] - 1s 79us/step - loss: 0.5029 - acc: 0.7711 - val_loss: 0.4746 - val_acc: 0.8052\n",
      "Epoch 6/30\n",
      "7000/7000 [==============================] - 1s 79us/step - loss: 0.4802 - acc: 0.7795 - val_loss: 0.4570 - val_acc: 0.8068\n",
      "Epoch 7/30\n",
      "7000/7000 [==============================] - 1s 80us/step - loss: 0.4669 - acc: 0.7843 - val_loss: 0.4410 - val_acc: 0.8088\n",
      "Epoch 8/30\n",
      "7000/7000 [==============================] - 1s 80us/step - loss: 0.4455 - acc: 0.7975 - val_loss: 0.4257 - val_acc: 0.8190\n",
      "Epoch 9/30\n",
      "7000/7000 [==============================] - 1s 80us/step - loss: 0.4288 - acc: 0.8080 - val_loss: 0.4107 - val_acc: 0.8228\n",
      "Epoch 10/30\n",
      "7000/7000 [==============================] - 1s 80us/step - loss: 0.4118 - acc: 0.8202 - val_loss: 0.3974 - val_acc: 0.8274\n",
      "Epoch 11/30\n",
      "7000/7000 [==============================] - 1s 80us/step - loss: 0.3959 - acc: 0.8287 - val_loss: 0.3854 - val_acc: 0.8328\n",
      "Epoch 12/30\n",
      "7000/7000 [==============================] - 1s 80us/step - loss: 0.3830 - acc: 0.8347 - val_loss: 0.3740 - val_acc: 0.8364\n",
      "Epoch 13/30\n",
      "7000/7000 [==============================] - 1s 80us/step - loss: 0.3704 - acc: 0.8416 - val_loss: 0.3637 - val_acc: 0.8406\n",
      "Epoch 14/30\n",
      "7000/7000 [==============================] - 1s 79us/step - loss: 0.3568 - acc: 0.8474 - val_loss: 0.3524 - val_acc: 0.8464\n",
      "Epoch 15/30\n",
      "7000/7000 [==============================] - 1s 80us/step - loss: 0.3434 - acc: 0.8569 - val_loss: 0.3428 - val_acc: 0.8514\n",
      "Epoch 16/30\n",
      "7000/7000 [==============================] - 1s 81us/step - loss: 0.3337 - acc: 0.8608 - val_loss: 0.3350 - val_acc: 0.8552\n",
      "Epoch 17/30\n",
      "7000/7000 [==============================] - 1s 80us/step - loss: 0.3228 - acc: 0.8663 - val_loss: 0.3272 - val_acc: 0.8580\n",
      "Epoch 18/30\n",
      "7000/7000 [==============================] - 1s 80us/step - loss: 0.3131 - acc: 0.8699 - val_loss: 0.3207 - val_acc: 0.8598\n",
      "Epoch 19/30\n",
      "7000/7000 [==============================] - 1s 79us/step - loss: 0.3066 - acc: 0.8739 - val_loss: 0.3142 - val_acc: 0.8652\n",
      "Epoch 20/30\n",
      "7000/7000 [==============================] - 1s 80us/step - loss: 0.2949 - acc: 0.8785 - val_loss: 0.3077 - val_acc: 0.8678\n",
      "Epoch 21/30\n",
      "7000/7000 [==============================] - 1s 79us/step - loss: 0.2863 - acc: 0.8829 - val_loss: 0.3022 - val_acc: 0.8704\n",
      "Epoch 22/30\n",
      "7000/7000 [==============================] - 1s 79us/step - loss: 0.2782 - acc: 0.8882 - val_loss: 0.2961 - val_acc: 0.8752\n",
      "Epoch 23/30\n",
      "7000/7000 [==============================] - 1s 79us/step - loss: 0.2690 - acc: 0.8914 - val_loss: 0.2919 - val_acc: 0.8778\n",
      "Epoch 24/30\n",
      "7000/7000 [==============================] - 1s 81us/step - loss: 0.2614 - acc: 0.8953 - val_loss: 0.2864 - val_acc: 0.8792\n",
      "Epoch 25/30\n",
      "7000/7000 [==============================] - 1s 79us/step - loss: 0.2561 - acc: 0.8983 - val_loss: 0.2834 - val_acc: 0.8818\n",
      "Epoch 26/30\n",
      "7000/7000 [==============================] - 1s 81us/step - loss: 0.2499 - acc: 0.9002 - val_loss: 0.2795 - val_acc: 0.8838\n",
      "Epoch 27/30\n",
      "7000/7000 [==============================] - 1s 80us/step - loss: 0.2461 - acc: 0.9027 - val_loss: 0.2766 - val_acc: 0.8858\n",
      "Epoch 28/30\n",
      "7000/7000 [==============================] - 1s 80us/step - loss: 0.2367 - acc: 0.9045 - val_loss: 0.2744 - val_acc: 0.8864\n",
      "Epoch 29/30\n",
      "7000/7000 [==============================] - 1s 80us/step - loss: 0.2298 - acc: 0.9098 - val_loss: 0.2706 - val_acc: 0.8890\n",
      "Epoch 30/30\n",
      "7000/7000 [==============================] - 1s 80us/step - loss: 0.2277 - acc: 0.9095 - val_loss: 0.2697 - val_acc: 0.8890\n"
     ]
    }
   ],
   "source": [
    "history = model.fit(train_data, train_labels, \n",
    "        epochs=30, batch_size=512,\n",
    "        validation_data=(val_data, val_labels))"
   ]
  },
  {
   "cell_type": "code",
   "execution_count": 190,
   "metadata": {},
   "outputs": [
    {
     "name": "stdout",
     "output_type": "stream",
     "text": [
      "5867/5867 [==============================] - 1s 117us/step\n",
      "0.2638787449051335 0.891665238090201\n"
     ]
    }
   ],
   "source": [
    "test_loss, test_acc = model.evaluate(test_data, test_labels)\n",
    "print(test_loss, test_acc)"
   ]
  },
  {
   "cell_type": "code",
   "execution_count": 191,
   "metadata": {},
   "outputs": [
    {
     "name": "stdout",
     "output_type": "stream",
     "text": [
      "['val_loss', 'val_acc', 'loss', 'acc']\n"
     ]
    },
    {
     "data": {
      "image/png": "[encoded data removed]",
      "text/plain": [
       "<Figure size 432x288 with 1 Axes>"
      ]
     },
     "metadata": {},
     "output_type": "display_data"
    },
    {
     "data": {
      "image/png": "[encoded data removed]",
      "text/plain": [
       "<Figure size 432x288 with 1 Axes>"
      ]
     },
     "metadata": {},
     "output_type": "display_data"
    }
   ],
   "source": [
    "import matplotlib.pyplot as plt\n",
    "\n",
    "print(list(history.history))\n",
    "acc = history.history['acc']\n",
    "val_acc = history.history['val_acc']\n",
    "loss = history.history['loss']\n",
    "val_loss = history.history['val_loss']\n",
    "\n",
    "epochs = range(1, len(acc)+1)\n",
    "plt.plot(epochs, acc, 'bo')\n",
    "plt.plot(epochs, val_acc, 'b')\n",
    "plt.show()\n",
    "\n",
    "epochs = range(1, len(loss)+1)\n",
    "plt.plot(epochs, loss, 'bo')\n",
    "plt.plot(epochs, val_loss, 'b')\n",
    "plt.show()"
   ]
  },
  {
   "cell_type": "code",
   "execution_count": 192,
   "metadata": {},
   "outputs": [],
   "source": [
    "def build_test(text, types, power, toughness, colorless, multicolor, cmc):\n",
    "    test = np.zeros( (1, inputs) )\n",
    "    fill_data(test, 0, text, types, power, toughness, colorless, multicolor, cmc)\n",
    "    return test\n",
    "\n",
    "def predict(text, types, power, toughness, colorless, multicolor, cmc):\n",
    "    colors = categories['colors']\n",
    "    pr = model.predict(build_test(text, types, power, toughness, colorless, multicolor, cmc))[0]\n",
    "    pr = [(colors[i], float(pr[i])) for i in range(len(colors))]\n",
    "    pr.sort(key=lambda p:-p[1])\n",
    "    pr = map(lambda p: (p[0], '%0.1f%%' % (100*p[1])), pr)\n",
    "    return list(pr)\n"
   ]
  },
  {
   "cell_type": "markdown",
   "metadata": {},
   "source": [
    "(1) What is the most appropriate color for this card?\n",
    "\n",
    "Scrappy Survivor\n",
    "\n",
    "[converted mana cost (CMC): 6]\n",
    "\n",
    "Creature --\n",
    "\n",
    "5/5\n",
    "\n",
    "Menace, prowess"
   ]
  },
  {
   "cell_type": "code",
   "execution_count": 193,
   "metadata": {},
   "outputs": [
    {
     "data": {
      "text/plain": [
       "[('Red', '58.7%'),\n",
       " ('Blue', '11.2%'),\n",
       " ('Black', '9.1%'),\n",
       " ('White', '8.5%'),\n",
       " ('Green', '6.5%')]"
      ]
     },
     "execution_count": 193,
     "metadata": {},
     "output_type": "execute_result"
    }
   ],
   "source": [
    "predict([\"menace\", \"prowess\"], [\"Creature\"], \"5\", \"5\", 0, 0, 6)"
   ]
  },
  {
   "cell_type": "markdown",
   "metadata": {},
   "source": [
    "(4) What is the most appropriate color combination for this multicolor card?\n",
    "\n",
    "Come Work for Me Temporarily\n",
    "\n",
    "[CMC: 4]\n",
    "\n",
    "Sorcery\n",
    "\n",
    "Gain control of target creature until end of turn. Untap it. It gets +1/+1 and gains haste, hexproof, and trample until end of turn."
   ]
  },
  {
   "cell_type": "code",
   "execution_count": 194,
   "metadata": {},
   "outputs": [
    {
     "data": {
      "text/plain": [
       "[('Red', '14.1%'),\n",
       " ('Green', '4.9%'),\n",
       " ('White', '0.9%'),\n",
       " ('Black', '0.4%'),\n",
       " ('Blue', '0.1%')]"
      ]
     },
     "execution_count": 194,
     "metadata": {},
     "output_type": "execute_result"
    }
   ],
   "source": [
    "predict([\"gain\", \"control\", \"of\", \"target\", \"creature\", \"until\", \"end\", \"of\", \"turn\", \"untap\", \"it\", \n",
    "           \"it\", \"gets\", \"+1/+1\", \"and\", \"gains\", \"haste\", \"and\", \"trample\", \"until\", \"end\", \"of\", \"turn\"],\n",
    "        [\"Sorcery\"], \"\", \"\", 0, 1, 2)"
   ]
  },
  {
   "cell_type": "markdown",
   "metadata": {},
   "source": [
    "(15) If this card was a hybrid creature, what colors would it be?\n",
    "\n",
    "Mysterio\n",
    "\n",
    "[CMC: 4]\n",
    "\n",
    "\\*/\\*\n",
    "\n",
    "Flash\n",
    "\n",
    "CARDNAME's power and toughness are each equal to the number of cards in your hand."
   ]
  },
  {
   "cell_type": "code",
   "execution_count": 208,
   "metadata": {},
   "outputs": [
    {
     "data": {
      "text/plain": [
       "[('Green', '6.2%'),\n",
       " ('Black', '5.2%'),\n",
       " ('White', '1.7%'),\n",
       " ('Blue', '1.0%'),\n",
       " ('Red', '0.5%')]"
      ]
     },
     "execution_count": 208,
     "metadata": {},
     "output_type": "execute_result"
    }
   ],
   "source": [
    "predict(cleanup(\"flash CARDNAME's power and toughness are each equal to the number of cards in your hand.\"),\n",
    "       [\"Creature\"], \"*\", \"*\", 0, 1, 4)"
   ]
  },
  {
   "cell_type": "markdown",
   "metadata": {},
   "source": [
    "(28) We try to avoid making two-color cards where the card could be done as a monocolor card in one of the two colors. Given that, suppose you have a two-color 4/4 creature with flying and vigilance (and no other abilities). Which of the following color combinations would be the best choice for this card?"
   ]
  },
  {
   "cell_type": "code",
   "execution_count": 196,
   "metadata": {},
   "outputs": [
    {
     "data": {
      "text/plain": [
       "[('White', '13.9%'),\n",
       " ('Red', '3.0%'),\n",
       " ('Blue', '2.7%'),\n",
       " ('Black', '2.5%'),\n",
       " ('Green', '1.5%')]"
      ]
     },
     "execution_count": 196,
     "metadata": {},
     "output_type": "execute_result"
    }
   ],
   "source": [
    "# Here it fails because it can't predict by ignoring monocolored cards with those keywords\n",
    "predict([\"flying\", \"vigilance\"], [\"Creature\"], \"4\", \"4\", 0, 1, 4)"
   ]
  },
  {
   "cell_type": "markdown",
   "metadata": {},
   "source": [
    "(51) What are the most appropriate colors for this card?\n",
    "\n",
    "Junkpile Engineer\n",
    "\n",
    "[CMC: 3]\n",
    "\n",
    "Creature -- Human Artificer\n",
    "\n",
    "3/2\n",
    "\n",
    "2, Sacrifice an artifact: Look at the top X cards of your library, where X is the converted mana cost of the sacrificed artifact. Put one of them into your hand and the rest on the bottom of your library in a random order."
   ]
  },
  {
   "cell_type": "code",
   "execution_count": 203,
   "metadata": {},
   "outputs": [
    {
     "data": {
      "text/plain": [
       "[('Blue', '6.5%'),\n",
       " ('Red', '5.0%'),\n",
       " ('Black', '1.8%'),\n",
       " ('White', '0.3%'),\n",
       " ('Green', '0.2%')]"
      ]
     },
     "execution_count": 203,
     "metadata": {},
     "output_type": "execute_result"
    }
   ],
   "source": [
    "predict(cleanup(\"2, Sacrifice an artifact: Look at the top X cards of your library, where X is the converted mana cost of the sacrificed artifact. Put one of them into your hand and the rest on the bottom of your library in a random order.\"),\n",
    "        [\"Creature\"], \"3\", \"2\", 0, 1, 3)"
   ]
  },
  {
   "cell_type": "markdown",
   "metadata": {},
   "source": [
    "(54) What are the most appropriate colors for this card?\n",
    "\n",
    "Dead Man Walking\n",
    "\n",
    "[CMC: 7]\n",
    "\n",
    "Creature -- Shapeshifter Wizard\n",
    "\n",
    "1/1\n",
    "\n",
    "When CARDNAME enters the battlefield, return target creature card from any graveyard to the battlefield under your control. All your creatures then become copies of that creature."
   ]
  },
  {
   "cell_type": "code",
   "execution_count": 214,
   "metadata": {},
   "outputs": [
    {
     "data": {
      "text/plain": [
       "[('White', '5.8%'),\n",
       " ('Black', '3.8%'),\n",
       " ('Green', '1.6%'),\n",
       " ('Blue', '0.8%'),\n",
       " ('Red', '0.5%')]"
      ]
     },
     "execution_count": 214,
     "metadata": {},
     "output_type": "execute_result"
    }
   ],
   "source": [
    "predict(cleanup(\"When CARDNAME enters the battlefield, return target creature card from any graveyard to the battlefield under your control. All your creatures then become copies of that creature.\"),\n",
    "        [\"Creature\"], \"1\", \"1\", 0, 1, 7)"
   ]
  }
 ],
 "metadata": {
  "kernelspec": {
   "display_name": "Python 3",
   "language": "python",
   "name": "python3"
  },
  "language_info": {
   "codemirror_mode": {
    "name": "ipython",
    "version": 3
   },
   "file_extension": ".py",
   "mimetype": "text/x-python",
   "name": "python",
   "nbconvert_exporter": "python",
   "pygments_lexer": "ipython3",
   "version": "3.6.4"
  }
 },
 "nbformat": 4,
 "nbformat_minor": 2
}
